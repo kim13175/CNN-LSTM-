{
 "cells": [
  {
   "cell_type": "code",
   "execution_count": 1,
   "metadata": {},
   "outputs": [],
   "source": [
    "import pandas as pd\n",
    "import numpy as np"
   ]
  },
  {
   "cell_type": "markdown",
   "metadata": {},
   "source": [
    "## 질병의 다중 분류하기 위한 데이터 생성"
   ]
  },
  {
   "cell_type": "markdown",
   "metadata": {},
   "source": [
    "#### 1. 흉부영상을 보고 특이점을 적어둔 FeatureSelection"
   ]
  },
  {
   "cell_type": "code",
   "execution_count": 4,
   "metadata": {},
   "outputs": [
    {
     "data": {
      "text/html": [
       "<div>\n",
       "<style scoped>\n",
       "    .dataframe tbody tr th:only-of-type {\n",
       "        vertical-align: middle;\n",
       "    }\n",
       "\n",
       "    .dataframe tbody tr th {\n",
       "        vertical-align: top;\n",
       "    }\n",
       "\n",
       "    .dataframe thead th {\n",
       "        text-align: right;\n",
       "    }\n",
       "</style>\n",
       "<table border=\"1\" class=\"dataframe\">\n",
       "  <thead>\n",
       "    <tr style=\"text-align: right;\">\n",
       "      <th></th>\n",
       "      <th>study_id</th>\n",
       "      <th>Findings</th>\n",
       "    </tr>\n",
       "  </thead>\n",
       "  <tbody>\n",
       "    <tr>\n",
       "      <th>0</th>\n",
       "      <td>50414267</td>\n",
       "      <td>There is no focal consolidation, pleural effus...</td>\n",
       "    </tr>\n",
       "    <tr>\n",
       "      <th>1</th>\n",
       "      <td>53189527</td>\n",
       "      <td>The cardiac, mediastinal and hilar contours ar...</td>\n",
       "    </tr>\n",
       "    <tr>\n",
       "      <th>2</th>\n",
       "      <td>53911762</td>\n",
       "      <td>Single frontal view of the chest provided.\\r\\n...</td>\n",
       "    </tr>\n",
       "    <tr>\n",
       "      <th>3</th>\n",
       "      <td>56699142</td>\n",
       "      <td>The lungs are clear of focal consolidation, pl...</td>\n",
       "    </tr>\n",
       "    <tr>\n",
       "      <th>4</th>\n",
       "      <td>57375967</td>\n",
       "      <td>PA and lateral views of the chest provided.   ...</td>\n",
       "    </tr>\n",
       "  </tbody>\n",
       "</table>\n",
       "</div>"
      ],
      "text/plain": [
       "   study_id                                           Findings\n",
       "0  50414267  There is no focal consolidation, pleural effus...\n",
       "1  53189527  The cardiac, mediastinal and hilar contours ar...\n",
       "2  53911762  Single frontal view of the chest provided.\\r\\n...\n",
       "3  56699142  The lungs are clear of focal consolidation, pl...\n",
       "4  57375967  PA and lateral views of the chest provided.   ..."
      ]
     },
     "execution_count": 4,
     "metadata": {},
     "output_type": "execute_result"
    }
   ],
   "source": [
    "finding_and_impression_data_path = './data/findings_and_impression.csv'\n",
    "label_data_path = './data/mimic-cxr-2.0.0-chexpert.csv'\n",
    "\n",
    "finding_and_impression_data = pd.read_csv(finding_and_impression_data_path)\n",
    "\n",
    "finding_data = finding_and_impression_data[['study_id', 'Findings']]\n",
    "\n",
    "finding_data.head()"
   ]
  },
  {
   "cell_type": "markdown",
   "metadata": {},
   "source": [
    "#### 2. 다중 분류를 위한 label\n",
    "\n",
    " 환자id를 제외한 14개 값 (축소 필요)\n",
    " ---\n",
    " - 폐 관련 질환 (Lung Conditions)\n",
    "    - Atelectasis (무기폐), Consolidation (폐경화), Lung Lesion (폐 병변), Lung Opacity (폐 불투명도), Pneumonia (폐렴), Pneumothorax (기흉)\n",
    " - 심장 및 순환기 관련 질환 (Cardiac and Cirulatory Conditions)\n",
    "    - Cardiomegaly (심장비대증), Edema (부종), Enlarged Cardiomediastinum (확대된 심장 종격동)\n",
    " - 흉막 관련 질환 (Pleural Conditions)\n",
    "    - Pleural Effusion (흉막 삼출액), Pleural Other (흉막 기타)\n",
    " - 골격계 질환 (Skeletal Conditions)\n",
    "    - Fracture (골절)\n",
    " - 정상 (Normal Conditions)\n",
    "    - No Finding "
   ]
  },
  {
   "cell_type": "code",
   "execution_count": 24,
   "metadata": {},
   "outputs": [
    {
     "name": "stdout",
     "output_type": "stream",
     "text": [
      "Atelectasis : Atelectasis\n",
      " 0.0    0.753607\n",
      " 1.0    0.201065\n",
      "-1.0    0.045328\n",
      "Name: proportion, dtype: float64\n",
      "Cardiomegaly : Cardiomegaly\n",
      " 0.0    0.776638\n",
      " 1.0    0.196838\n",
      "-1.0    0.026525\n",
      "Name: proportion, dtype: float64\n",
      "Consolidation : Consolidation\n",
      " 0.0    0.933682\n",
      " 1.0    0.047308\n",
      "-1.0    0.019010\n",
      "Name: proportion, dtype: float64\n",
      "Edema : Edema\n",
      " 0.0    0.823585\n",
      " 1.0    0.118590\n",
      "-1.0    0.057825\n",
      "Name: proportion, dtype: float64\n",
      "Enlarged Cardiomediastinum : Enlarged Cardiomediastinum\n",
      " 0.0    0.927340\n",
      "-1.0    0.041150\n",
      " 1.0    0.031511\n",
      "Name: proportion, dtype: float64\n",
      "Fracture : Fracture\n",
      " 0.0    0.978295\n",
      " 1.0    0.019269\n",
      "-1.0    0.002436\n",
      "Name: proportion, dtype: float64\n",
      "Lung Lesion : Lung Lesion\n",
      " 0.0    0.967409\n",
      " 1.0    0.027582\n",
      "-1.0    0.005008\n",
      "Name: proportion, dtype: float64\n",
      "Lung Opacity : Lung Opacity\n",
      " 0.0    0.757026\n",
      " 1.0    0.226158\n",
      "-1.0    0.016815\n",
      "Name: proportion, dtype: float64\n",
      "No Finding : No Finding\n",
      "0.0    0.668806\n",
      "1.0    0.331194\n",
      "Name: proportion, dtype: float64\n",
      "Pleural Effusion : Pleural Effusion\n",
      " 0.0    0.736142\n",
      " 1.0    0.238339\n",
      "-1.0    0.025519\n",
      "Name: proportion, dtype: float64\n",
      "Pleural Other : Pleural Other\n",
      " 0.0    0.987815\n",
      " 1.0    0.008827\n",
      "-1.0    0.003358\n",
      "Name: proportion, dtype: float64\n",
      "Pneumonia : Pneumonia\n",
      " 0.0    0.847046\n",
      "-1.0    0.080285\n",
      " 1.0    0.072669\n",
      "Name: proportion, dtype: float64\n",
      "Pneumothorax : Pneumothorax\n",
      " 0.0    0.949558\n",
      " 1.0    0.045464\n",
      "-1.0    0.004977\n",
      "Name: proportion, dtype: float64\n"
     ]
    }
   ],
   "source": [
    "label_data = pd.read_csv(label_data_path)\n",
    "\n",
    "label_data = label_data.fillna(0)\n",
    "classification_label_data = label_data.drop(['Support Devices', 'subject_id'], axis=1)\n",
    "\n",
    "for idx in classification_label_data:\n",
    "    if idx == 'study_id':\n",
    "        continue\n",
    "    print(f'{idx} : {classification_label_data[idx].value_counts(normalize=True)}')"
   ]
  },
  {
   "cell_type": "code",
   "execution_count": 47,
   "metadata": {},
   "outputs": [],
   "source": [
    "new_categorical_data_frame = pd.DataFrame(columns=['study_id', 'LungConditions', 'CardiacAndCirculatoryConditions', 'PleuralConditions', 'SkeletalConditions', 'NormalConditions'], index=None).astype(int)\n",
    "\n",
    "new_categorical_data_frame['study_id'] = classification_label_data['study_id']\n",
    "new_categorical_data_frame['LungConditions'] = classification_label_data[['Atelectasis', 'Consolidation', 'Lung Lesion', 'Lung Opacity', 'Pneumonia', 'Pneumothorax']].max(axis=1)\n",
    "new_categorical_data_frame['CardiacAndCirculatoryConditions'] = classification_label_data[['Cardiomegaly', 'Enlarged Cardiomediastinum', 'Edema']].max(axis=1)\n",
    "new_categorical_data_frame['PleuralConditions'] = classification_label_data[['Pleural Effusion', 'Pleural Other']].max(axis=1)\n",
    "new_categorical_data_frame['SkeletalConditions'] = classification_label_data[['Fracture']].max(axis=1)\n",
    "new_categorical_data_frame['NormalConditions'] = classification_label_data['No Finding']\n",
    "# int형 변환\n",
    "new_categorical_data_frame = new_categorical_data_frame.astype(int)\n",
    "\n",
    "new_categorical_data_frame.to_csv('./data/merged_label_conditions.csv', index=False)"
   ]
  }
 ],
 "metadata": {
  "kernelspec": {
   "display_name": "Python 3",
   "language": "python",
   "name": "python3"
  },
  "language_info": {
   "codemirror_mode": {
    "name": "ipython",
    "version": 3
   },
   "file_extension": ".py",
   "mimetype": "text/x-python",
   "name": "python",
   "nbconvert_exporter": "python",
   "pygments_lexer": "ipython3",
   "version": "3.10.0"
  }
 },
 "nbformat": 4,
 "nbformat_minor": 2
}
