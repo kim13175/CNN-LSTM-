{
 "cells": [
  {
   "cell_type": "markdown",
   "metadata": {},
   "source": [
    "### 위 파일은 모델 평가 함수를 만드는 파일입니다."
   ]
  },
  {
   "cell_type": "markdown",
   "metadata": {},
   "source": [
    "#### epoch 별 정확도 평가 지표 \n",
    " - epoch => 반복 횟수를 증가시켜도 정확도와 손실률이 유지될 경우 모델이 안정성을 띈다고 할 수 있다.\n",
    " - epoch 후 손실률이 올라갈 경우 모델의 과접학 부분에서 고려해야 한다.\n",
    " - 이진분류 시에는 binary_crossentropy를 사용하지만 다중분류의 경우에는 categorical_crossentropy를 사용해야 한다."
   ]
  },
  {
   "cell_type": "code",
   "execution_count": null,
   "metadata": {},
   "outputs": [],
   "source": [
    "import matplotlib.pyplot as plt\n",
    "## draw_graph(훈련 상황을 기록한 변수, 그래프 title에 들어갈 모델 이름)\n",
    "def draw_graph(history, name):\n",
    "\n",
    "  val_acc = history.history['val_accuracy']\n",
    "  val_loss = history.history['val_loss']\n",
    "\n",
    "  epochs = range(1, len(val_acc)+1)\n",
    "\n",
    "  plt.title(f'{name} Validation accuracy and loss')\n",
    "  plt.plot(epochs, val_acc, 'b', label='Validation acc')\n",
    "  plt.plot(epochs, val_loss, 'r', label='Validation loss')\n",
    "  plt.xlabel('epochs')\n",
    "  plt.ylabel('performance_score')\n",
    "  plt.legend()\n",
    "\n",
    "  plt.show()"
   ]
  },
  {
   "cell_type": "markdown",
   "metadata": {},
   "source": [
    "#### roc curve\n",
    " - 분류 모델의 성능을 평가할 때 이용되며 정밀도와 재현율을 이용하여 FPR(특이도) TPR(민감도)를 계산하여 평가한다.\n",
    " - 기본적으로 이진 분류일 때를 가정하고 0.5의 지표를 기준으로 하며, 선형적으로 증가하는 그래프를 기준으로 성능 지표 곡선이 능가해야 한다. \n",
    " - 완만한 곡선은 일반적으로 뛰어나지 못한 성능을 나타낸다."
   ]
  },
  {
   "cell_type": "code",
   "execution_count": null,
   "metadata": {},
   "outputs": [],
   "source": [
    "from sklearn.metrics import roc_curve, auc\n",
    "## plot_roc_curve(모델 이름, 검증 셋 입력 , 검증 셋 출력) \n",
    "def plot_roc_curve(model, X_val, y_val):\n",
    "\n",
    "    y_pred_proba = model.predict(X_val).ravel()  \n",
    "\n",
    "    # ROC 곡선 계산\n",
    "    fpr, tpr, thresholds = roc_curve(y_val, y_pred_proba)\n",
    "\n",
    "    # AUC 계산\n",
    "    roc_auc = auc(fpr, tpr)\n",
    "\n",
    "    plt.figure()\n",
    "    plt.plot(fpr, tpr, color='darkorange', lw=2, label='ROC curve (area = %0.2f)' % roc_auc)\n",
    "    plt.plot([0, 1], [0, 1], color='navy', lw=2, linestyle='--')\n",
    "    plt.xlim([0.0, 1.0])\n",
    "    plt.ylim([0.0, 1.05])\n",
    "    plt.xlabel('False Positive Rate')\n",
    "    plt.ylabel('True Positive Rate')\n",
    "    plt.title('Receiver Operating Characteristic')\n",
    "    plt.legend(loc=\"lower right\")\n",
    "    plt.show()"
   ]
  }
 ],
 "metadata": {
  "kernelspec": {
   "display_name": "Python 3",
   "language": "python",
   "name": "python3"
  },
  "language_info": {
   "name": "python",
   "version": "3.10.0"
  }
 },
 "nbformat": 4,
 "nbformat_minor": 2
}
